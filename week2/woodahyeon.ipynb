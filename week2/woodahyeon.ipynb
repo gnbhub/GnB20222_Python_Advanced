{
  "nbformat": 4,
  "nbformat_minor": 0,
  "metadata": {
    "colab": {
      "provenance": [],
      "authorship_tag": "ABX9TyM0uOcOZRVGE5zuTbYL4eQL",
      "include_colab_link": true
    },
    "kernelspec": {
      "name": "python3",
      "display_name": "Python 3"
    },
    "language_info": {
      "name": "python"
    }
  },
  "cells": [
    {
      "cell_type": "markdown",
      "metadata": {
        "id": "view-in-github",
        "colab_type": "text"
      },
      "source": [
        "<a href=\"https://colab.research.google.com/github/gnbhub/GnB20222_Python_Advanced_1/blob/master/week2/woodahyeon.ipynb\" target=\"_parent\"><img src=\"https://colab.research.google.com/assets/colab-badge.svg\" alt=\"Open In Colab\"/></a>"
      ]
    },
    {
      "cell_type": "code",
      "execution_count": 1,
      "metadata": {
        "colab": {
          "base_uri": "https://localhost:8080/"
        },
        "id": "ZNS5CZqWVAD1",
        "outputId": "801129d0-77c0-4b14-ee8e-e5e4043fb81d"
      },
      "outputs": [
        {
          "output_type": "stream",
          "name": "stdout",
          "text": [
            "baekjoon\n",
            "1 0 -1 -1 2 -1 -1 -1 -1 4 3 -1 -1 7 5 -1 -1 -1 -1 -1 -1 -1 -1 -1 -1 -1 "
          ]
        }
      ],
      "source": [
        "#6-3\n",
        "import string\n",
        "s = input()\n",
        "for i in string.ascii_lowercase:\n",
        "    print(s.find(i), end = ' ')"
      ]
    },
    {
      "cell_type": "code",
      "source": [
        "#6-4\n",
        "for i in range(int(input())):\n",
        "    r, s = input().split()\n",
        "    for j in s:\n",
        "        for k in range(int(r)):\n",
        "            print(j, end='')\n",
        "    print()"
      ],
      "metadata": {
        "colab": {
          "base_uri": "https://localhost:8080/"
        },
        "id": "KIFMySCmVKit",
        "outputId": "1185cc91-c632-48ce-d060-21f3aa573e7d"
      },
      "execution_count": 3,
      "outputs": [
        {
          "output_type": "stream",
          "name": "stdout",
          "text": [
            "2\n",
            "3 ABC\n",
            "AAABBBCCC\n",
            "5 /HTTP\n",
            "/////HHHHHTTTTTTTTTTPPPPP\n"
          ]
        }
      ]
    },
    {
      "cell_type": "code",
      "source": [
        "#6-5\n",
        "word = input().upper()\n",
        "arr = []\n",
        "cnt, mx = 0, 0\n",
        "for i in word:\n",
        "    if (i not in arr) and i.isalpha():\n",
        "        arr += [i]\n",
        "for i in arr:\n",
        "    cnt = 0\n",
        "    for j in word:\n",
        "        if i==j: cnt+=1\n",
        "    if mx < cnt:\n",
        "        mx = cnt\n",
        "        result = i\n",
        "    elif mx == cnt: result = '?'\n",
        "print(result)"
      ],
      "metadata": {
        "colab": {
          "base_uri": "https://localhost:8080/"
        },
        "id": "-vMdiQxcVb1i",
        "outputId": "7c9c6f4e-eb2f-4be2-ba2b-aab3d48afc34"
      },
      "execution_count": 4,
      "outputs": [
        {
          "output_type": "stream",
          "name": "stdout",
          "text": [
            "Mississipi\n",
            "?\n"
          ]
        }
      ]
    },
    {
      "cell_type": "code",
      "source": [
        "#6-6\n",
        "print(len(input().split()))"
      ],
      "metadata": {
        "colab": {
          "base_uri": "https://localhost:8080/"
        },
        "id": "dVos6BQnVho0",
        "outputId": "59b270cc-d22f-48b5-c5af-ff1e7b9046ba"
      },
      "execution_count": 5,
      "outputs": [
        {
          "output_type": "stream",
          "name": "stdout",
          "text": [
            " The first character is a blank\n",
            "6\n"
          ]
        }
      ]
    },
    {
      "cell_type": "code",
      "source": [
        "#6-7\n",
        "n = ''\n",
        "nums = input()\n",
        "for i in range(len(nums)):\n",
        "    n = nums[i]+n\n",
        "print(max(n.split()))"
      ],
      "metadata": {
        "colab": {
          "base_uri": "https://localhost:8080/"
        },
        "id": "8a3t5t2oVlaF",
        "outputId": "5eaa4d62-d2da-439f-eb82-1d926f7c7184"
      },
      "execution_count": 6,
      "outputs": [
        {
          "output_type": "stream",
          "name": "stdout",
          "text": [
            "734 893\n",
            "437\n"
          ]
        }
      ]
    }
  ]
}