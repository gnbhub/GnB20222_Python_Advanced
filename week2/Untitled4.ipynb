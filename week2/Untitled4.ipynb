{
  "nbformat": 4,
  "nbformat_minor": 0,
  "metadata": {
    "colab": {
      "provenance": [],
      "authorship_tag": "ABX9TyNYqYut/5tQvRLWobu5lHIt",
      "include_colab_link": true
    },
    "kernelspec": {
      "name": "python3",
      "display_name": "Python 3"
    },
    "language_info": {
      "name": "python"
    }
  },
  "cells": [
    {
      "cell_type": "markdown",
      "metadata": {
        "id": "view-in-github",
        "colab_type": "text"
      },
      "source": [
        "<a href=\"https://colab.research.google.com/github/gnbhub/GnB20222_Python_Advanced_1/blob/master/week2/Untitled4.ipynb\" target=\"_parent\"><img src=\"https://colab.research.google.com/assets/colab-badge.svg\" alt=\"Open In Colab\"/></a>"
      ]
    },
    {
      "cell_type": "code",
      "execution_count": null,
      "metadata": {
        "id": "sK64lMWT9OCW"
      },
      "outputs": [],
      "source": [
        "#6-3\n",
        "import string\n",
        "\n",
        "s=list(input())\n",
        "\n",
        "alhpa=list(string.ascii_lowercase)\n",
        "\n",
        "for i in range (len(alhpa)):\n",
        "    cnt=0\n",
        "    for j in range (len(s)):\n",
        "        \n",
        "        if alhpa[i]==s[j]:\n",
        "        \n",
        "            print(j,end=' ')\n",
        "            cnt+=1\n",
        "            break\n",
        "            \n",
        "  \n",
        "        elif s[j] != alhpa[i]:\n",
        "            \n",
        "            cnt+=0\n",
        "\n",
        "    if cnt==0:\n",
        "        print(-1,end=' ')"
      ]
    },
    {
      "cell_type": "code",
      "source": [
        "#6-4\n",
        "T=input()\n",
        "A=[]\n",
        "for i in range(int(T)):\n",
        "    k=input()\n",
        "\n",
        "    if k.count(' ')>0:\n",
        "        R,S=k.split()\n",
        "\n",
        "\n",
        "\n",
        "        A.append(R)\n",
        "        A.append(S)\n",
        "\n",
        "        \n",
        "for i in range(0,int(T)*2,2):\n",
        "    for j in A[i+1]:\n",
        "        print(j*int(A[i]),end='')\n",
        "    print()"
      ],
      "metadata": {
        "id": "NaQ2puAx9hux"
      },
      "execution_count": null,
      "outputs": []
    },
    {
      "cell_type": "code",
      "source": [
        "#6-5\n",
        "N=input()\n",
        "\n",
        "s=N.upper()\n",
        "\n",
        "import string\n",
        "\n",
        "u=list(string.ascii_uppercase)\n",
        "\n",
        "cnt=0\n",
        "cas=[]\n",
        "num=[]\n",
        "for i in u:\n",
        "    cas+=i\n",
        "    num.append(s.count(i))\n",
        "\n",
        "\n",
        "if num.count(max(num))>=2:\n",
        "    print('?')\n",
        "\n",
        "else:\n",
        "    print(cas[num.index(max(num))])\n"
      ],
      "metadata": {
        "id": "wUVMBu2M9o_s"
      },
      "execution_count": null,
      "outputs": []
    },
    {
      "cell_type": "code",
      "source": [
        "#6-6\n",
        "N=input().strip()\n",
        "\n",
        "word=[]\n",
        "\n",
        "\n",
        "    \n",
        "word=N.split()\n",
        "print(len(word))"
      ],
      "metadata": {
        "id": "Z1MzSHkd9xtA"
      },
      "execution_count": null,
      "outputs": []
    },
    {
      "cell_type": "code",
      "source": [
        "#6-7\n",
        "a,b=input().split(' ')\n",
        "\n",
        "for i in range(-1,-4,-1):\n",
        "    if a[i]>b[i]:\n",
        "        print(a[::-1])\n",
        "        break\n",
        "    \n",
        "    elif a[i]==b[i]:\n",
        "        continue\n",
        "\n",
        "    else:\n",
        "        print(b[::-1])\n",
        "        break"
      ],
      "metadata": {
        "id": "UJr0sW5t95mg"
      },
      "execution_count": null,
      "outputs": []
    },
    {
      "cell_type": "code",
      "source": [],
      "metadata": {
        "id": "goUWp7EM-BKr"
      },
      "execution_count": null,
      "outputs": []
    }
  ]
}