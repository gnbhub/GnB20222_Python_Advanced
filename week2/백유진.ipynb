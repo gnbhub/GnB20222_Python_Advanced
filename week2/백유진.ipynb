{
  "nbformat": 4,
  "nbformat_minor": 0,
  "metadata": {
    "colab": {
      "provenance": [],
      "collapsed_sections": [],
      "authorship_tag": "ABX9TyPapHcqnSyK/MrXLrYKiUGJ",
      "include_colab_link": true
    },
    "kernelspec": {
      "name": "python3",
      "display_name": "Python 3"
    },
    "language_info": {
      "name": "python"
    }
  },
  "cells": [
    {
      "cell_type": "markdown",
      "metadata": {
        "id": "view-in-github",
        "colab_type": "text"
      },
      "source": [
        "<a href=\"https://colab.research.google.com/github/gnbhub/GnB20222_Python_Advanced_1/blob/master/week2_%EB%B0%B1%EC%9C%A0%EC%A7%84.ipynb\" target=\"_parent\"><img src=\"https://colab.research.google.com/assets/colab-badge.svg\" alt=\"Open In Colab\"/></a>"
      ]
    },
    {
      "cell_type": "code",
      "execution_count": null,
      "metadata": {
        "id": "ABhno_V9siV0"
      },
      "outputs": [],
      "source": [
        "#6-4\n",
        "lst=list()\n",
        "test_cnt=int(input())\n",
        "\n",
        "for i in range(test_cnt):\n",
        "  a,b=input().split()\n",
        "  lst.append(a)\n",
        "  lst.append(b)\n",
        "\n",
        "while len(lst)!=0:\n",
        "  repeat=int(lst[0])\n",
        "  string=lst[1]\n",
        "\n",
        "  for i in string:\n",
        "    print(i*repeat,end='')\n",
        "  print('')\n",
        "\n",
        "  del lst[0]\n",
        "  del lst[0]"
      ]
    },
    {
      "cell_type": "code",
      "source": [
        "#6-5\n",
        "string=input().upper()\n",
        "string_one=''.join(dict.fromkeys(string))\n",
        "repeat_check=list()\n",
        "\n",
        "max_cnt=0\n",
        "for i in string_one:\n",
        "  if max_cnt<string.count(i):\n",
        "    max_cnt=string.count(i)\n",
        "    max_str=i\n",
        "for i in string_one:\n",
        "  if max_cnt==string.count(i):\n",
        "    repeat_check.append(i)\n",
        "    \n",
        "if len(repeat_check)!=1:\n",
        "  max_str='?'\n",
        "\n",
        "print(max_str)"
      ],
      "metadata": {
        "id": "IZcKQSdTsxpC"
      },
      "execution_count": null,
      "outputs": []
    },
    {
      "cell_type": "code",
      "source": [
        "#6-6\n",
        "string=input()\n",
        "word=string.split()\n",
        "print(len(word))"
      ],
      "metadata": {
        "id": "k2zUujwbs7VU"
      },
      "execution_count": null,
      "outputs": []
    },
    {
      "cell_type": "code",
      "source": [
        "#6-7\n",
        "num1,num2=input().split()\n",
        "num1=num1[::-1]\n",
        "num2=num2[::-1]\n",
        "\n",
        "if num1[0]<num2[0]:\n",
        "  print(num2)\n",
        "elif num1[0]>num2[0]:\n",
        "  print(num1)\n",
        "else:\n",
        "    if num1[1]<num2[1]:\n",
        "      print(num2)\n",
        "    elif num1[1]>num2[1]:\n",
        "      print(num1)\n",
        "    else:\n",
        "      if num1[2]<num2[2]:\n",
        "        print(num2)\n",
        "      else:\n",
        "        print(num1)"
      ],
      "metadata": {
        "id": "Isda_0QbtADf"
      },
      "execution_count": null,
      "outputs": []
    }
  ]
}
