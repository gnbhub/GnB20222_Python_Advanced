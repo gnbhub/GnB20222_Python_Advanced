{
  "nbformat": 4,
  "nbformat_minor": 0,
  "metadata": {
    "colab": {
      "provenance": [],
      "authorship_tag": "ABX9TyM89BrQ9olNyPP5RIdIoPWf",
      "include_colab_link": true
    },
    "kernelspec": {
      "name": "python3",
      "display_name": "Python 3"
    },
    "language_info": {
      "name": "python"
    }
  },
  "cells": [
    {
      "cell_type": "markdown",
      "metadata": {
        "id": "view-in-github",
        "colab_type": "text"
      },
      "source": [
        "<a href=\"https://colab.research.google.com/github/gnbhub/GnB20222_Python_Advanced_1/blob/master/week4/junyeon.ipynb\" target=\"_parent\"><img src=\"https://colab.research.google.com/assets/colab-badge.svg\" alt=\"Open In Colab\"/></a>"
      ]
    },
    {
      "cell_type": "code",
      "execution_count": null,
      "metadata": {
        "id": "Nsbe0QLAmwxh"
      },
      "outputs": [],
      "source": [
        "#7-3 분수찾기\n",
        "x = int(input())\n",
        "\n",
        "line = 0\n",
        "max = 0\n",
        "while x > max:\n",
        "    line +=1\n",
        "    max += line\n",
        "\n",
        "gap = max - x\n",
        "if line % 2 ==0:\n",
        "    top = line - gap\n",
        "    under = gap + 1\n",
        "\n",
        "else:\n",
        "    top = gap + 1\n",
        "    under  = line - gap\n",
        "print(f'{top}/{under}')\n",
        "\n",
        "\n",
        "#7-4 달팽이는 올라가고 싶다\n",
        "A,B,V = map(int, input().split())\n",
        "\n",
        "if (V-B)%(A-B) == 0:\n",
        "    print((V-B)//(A-B))\n",
        "else:\n",
        "    print((V-B)//(A-B)+1)\n",
        "\n",
        "#7-5 ACM 호텔\n",
        "''' num = 반복 횟수, h = 건물의 층수\n",
        "    w = 각 층의 방수, n = 몇 번째 손님'''\n",
        "\n",
        "num = int(input())\n",
        "\n",
        "for i in range(num):\n",
        "    h, w, n = map(int, input().split())\n",
        "    room = n // h +1\n",
        "    floor = n % h\n",
        "\n",
        "    if floor == 0:\n",
        "        room = n // h\n",
        "        floor = h\n",
        "    print(f'{floor * 100 + room}')\n",
        "\n",
        "#7-6 부녀회장이 될테야\n",
        "\n",
        "\n",
        "\n",
        "#7-7 설탕 배달\n",
        "sugar = int(input())\n",
        "\n",
        "pack = sugar//5\n",
        "remain = sugar % 5\n",
        "count = 0\n",
        "\n",
        "while pack != 0:\n",
        "    if remain % 3 ==0:\n",
        "        count = pack + remain//3\n",
        "        break\n",
        "    else:\n",
        "        pack -= 1\n",
        "        remain = sugar - 5*pack\n",
        "\n",
        "if pack == 0 and sugar % 3 ==0:\n",
        "    print(sugar//3)\n",
        "\n",
        "elif pack == 0 and sugar % 3 != 0:\n",
        "    print(-1)\n",
        "\n",
        "else:\n",
        "    print(count)\n"
      ]
    }
  ]
}