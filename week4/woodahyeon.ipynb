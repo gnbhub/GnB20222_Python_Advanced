{
  "nbformat": 4,
  "nbformat_minor": 0,
  "metadata": {
    "colab": {
      "provenance": [],
      "authorship_tag": "ABX9TyNvNGiEXxWovfHdPsTMitHD",
      "include_colab_link": true
    },
    "kernelspec": {
      "name": "python3",
      "display_name": "Python 3"
    },
    "language_info": {
      "name": "python"
    }
  },
  "cells": [
    {
      "cell_type": "markdown",
      "metadata": {
        "id": "view-in-github",
        "colab_type": "text"
      },
      "source": [
        "<a href=\"https://colab.research.google.com/github/gnbhub/GnB20222_Python_Advanced_1/blob/master/week4/woodahyeon.ipynb\" target=\"_parent\"><img src=\"https://colab.research.google.com/assets/colab-badge.svg\" alt=\"Open In Colab\"/></a>"
      ]
    },
    {
      "cell_type": "code",
      "execution_count": null,
      "metadata": {
        "colab": {
          "base_uri": "https://localhost:8080/"
        },
        "id": "APy021fqz_r0",
        "outputId": "4c183c85-cb47-4774-c5f6-6c3e2e35c5a3"
      },
      "outputs": [
        {
          "output_type": "stream",
          "name": "stdout",
          "text": [
            "10000000\n",
            "562819/-562774\n"
          ]
        }
      ],
      "source": [
        "#7-3 분수 찾기\n",
        "def findfrac(x):\n",
        "    x = int(x)\n",
        "    n = x\n",
        "    count = 1\n",
        "    while(n!=0):\n",
        "      for i in range(count):\n",
        "        n -= 1\n",
        "      count += 1\n",
        "    for i in range(count):\n",
        "      mo = 1\n",
        "      ja = 1\n",
        "      \n",
        "\n",
        "    \n",
        "print(findfrac(input()))"
      ]
    },
    {
      "cell_type": "code",
      "source": [
        "#7-4 달팽이는 올라가고 싶다\n",
        "\n",
        "from math import ceil\n",
        "\n",
        "a, b, v = list(map(int, input().split()))\n",
        "print(ceil((v-b)/(a-b)))"
      ],
      "metadata": {
        "id": "XxnLDAmi_7KZ",
        "colab": {
          "base_uri": "https://localhost:8080/"
        },
        "outputId": "5e960635-3143-41e5-e516-79ea6f1f5160"
      },
      "execution_count": 19,
      "outputs": [
        {
          "output_type": "stream",
          "name": "stdout",
          "text": [
            "100 99 1000000000\n",
            "999999901\n"
          ]
        }
      ]
    },
    {
      "cell_type": "code",
      "source": [
        "#7-5 ACM 호텔\n",
        "\n",
        "def roomnum(h, w, n):\n",
        "  x = n\n",
        "  floor = 1\n",
        "  num = 1\n",
        "  while (1):\n",
        "    for i in range(h):\n",
        "      if (x==0): break\n",
        "      floor += 1\n",
        "      x -= 1\n",
        "    if (x==0):\n",
        "      return (\"%d%02d\"%(floor-1, num))\n",
        "    else:\n",
        "      floor = 1\n",
        "      num += 1\n",
        "\n",
        "t = int(input())\n",
        "\n",
        "for i in range(t):\n",
        "  h, w, n = list(map(int, input().split()))\n",
        "  print(roomnum(h, w, n))"
      ],
      "metadata": {
        "colab": {
          "base_uri": "https://localhost:8080/"
        },
        "id": "47Xmppt_X8jy",
        "outputId": "1f50dfa7-e62e-4160-fc1e-7bd39f1f18c5"
      },
      "execution_count": 23,
      "outputs": [
        {
          "output_type": "stream",
          "name": "stdout",
          "text": [
            "2\n",
            "6 12 10\n",
            "402\n",
            "30 50 72\n",
            "1203\n"
          ]
        }
      ]
    },
    {
      "cell_type": "code",
      "source": [
        "#7-6 부녀회장이 될테야\n",
        "\n",
        "t = int(input())\n",
        "\n",
        "for i in range(t):  \n",
        "    k = int(input())\n",
        "    n = int(input())\n",
        "    f = [x for x in range(1, n+1)]\n",
        "    for j in range(k):\n",
        "        for l in range(1, n):\n",
        "            f[l] += f[l-1]\n",
        "    print(f[-1])"
      ],
      "metadata": {
        "colab": {
          "base_uri": "https://localhost:8080/"
        },
        "id": "QIFc5uFOd0Qc",
        "outputId": "b35d93bd-c3eb-46f2-bf92-124b06f2d10a"
      },
      "execution_count": 26,
      "outputs": [
        {
          "output_type": "stream",
          "name": "stdout",
          "text": [
            "2\n",
            "1\n",
            "3\n",
            "6\n",
            "2\n",
            "3\n",
            "10\n"
          ]
        }
      ]
    },
    {
      "cell_type": "code",
      "source": [
        "#7-7 설탕 배달"
      ],
      "metadata": {
        "id": "LDLrhj2ximiU"
      },
      "execution_count": null,
      "outputs": []
    },
    {
      "cell_type": "code",
      "source": [
        "#7-8 큰 수 A+B\n",
        "\n",
        "a, b = list(map(int, input().split()))\n",
        "\n",
        "print(a+b)"
      ],
      "metadata": {
        "colab": {
          "base_uri": "https://localhost:8080/"
        },
        "id": "t03NeRz8imw7",
        "outputId": "eb8a8d26-5c80-4c3c-a1e7-6e66142eaf5b"
      },
      "execution_count": 24,
      "outputs": [
        {
          "output_type": "stream",
          "name": "stdout",
          "text": [
            "9223372036854775807 9223372036854775808\n",
            "18446744073709551615\n"
          ]
        }
      ]
    }
  ]
}