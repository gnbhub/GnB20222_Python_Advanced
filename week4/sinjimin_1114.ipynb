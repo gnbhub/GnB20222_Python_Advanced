{
  "nbformat": 4,
  "nbformat_minor": 0,
  "metadata": {
    "colab": {
      "provenance": [],
      "authorship_tag": "ABX9TyPG1qiwxVzQ1S+C8Du0pfz9",
      "include_colab_link": true
    },
    "kernelspec": {
      "name": "python3",
      "display_name": "Python 3"
    },
    "language_info": {
      "name": "python"
    }
  },
  "cells": [
    {
      "cell_type": "markdown",
      "metadata": {
        "id": "view-in-github",
        "colab_type": "text"
      },
      "source": [
        "<a href=\"https://colab.research.google.com/github/gnbhub/GnB20222_Python_Advanced_1/blob/master/week4/sinjimin_1114.ipynb\" target=\"_parent\"><img src=\"https://colab.research.google.com/assets/colab-badge.svg\" alt=\"Open In Colab\"/></a>"
      ]
    },
    {
      "cell_type": "code",
      "execution_count": null,
      "metadata": {
        "id": "zR0bpK0-S09J"
      },
      "outputs": [],
      "source": [
        "#기본 수학 3단계 - 분수찾기\n"
      ]
    },
    {
      "cell_type": "code",
      "source": [
        "#기본 수학 4단계 - 달팽이는 올라가고 싶다.\n",
        "a = int(input('a를 입력하세요: '))\n",
        "b = int(input('b를 입력하세요: '))\n",
        "v = int(input('v를 입력하세요: '))\n",
        "day = 0\n",
        "\n",
        "while v>0:6\n",
        "    v = v-(a-b)\n",
        "    day += 1\n",
        "\n",
        "print('달팽이가 나무 막대를 모두 올라가려면',day,'일이 걸린다')"
      ],
      "metadata": {
        "colab": {
          "base_uri": "https://localhost:8080/"
        },
        "id": "y6FrrEEsVov7",
        "outputId": "c626e987-3c71-43b1-9705-082abf21e537"
      },
      "execution_count": null,
      "outputs": [
        {
          "output_type": "stream",
          "name": "stdout",
          "text": [
            "a를 입력하세요: 5\n",
            "b를 입력하세요: 1\n",
            "v를 입력하세요: 6\n",
            "달팽이가 나무 막대를 모두 올라가려면 2 일이 걸린다\n"
          ]
        }
      ]
    },
    {
      "cell_type": "code",
      "source": [
        "#기본 수학 5단계 - ACM 호텔\n",
        "#손님의 선호 : 걷는 거리가 같을 때는 아래층의 방을 선호하고, 걷는 거리가 짧은 방을 선호한다.\n",
        "h = int(input('호텔의 층 수를 입력하세요: '))\n",
        "w = int(input('각 층의 방 수를 입력하세요: '))\n",
        "n = int(input('몇 번째 손님인지 입력하세요: '))\n",
        "\n",
        "lst = []\n",
        "for i in range(1,h+1):\n",
        "  for j in range(1,w+1):\n",
        "    if j<10:\n",
        "      lst.append('{}0{}'.format(i,j))\n",
        "    else:\n",
        "      lst.append('{}{}'.format(i,j))\n",
        "print(lst)\n",
        "lst.pop(n-1)"
      ],
      "metadata": {
        "colab": {
          "base_uri": "https://localhost:8080/",
          "height": 105
        },
        "id": "p51k9CpgYVSz",
        "outputId": "9c240e4f-70f2-4da6-985e-4bec22107c7f"
      },
      "execution_count": null,
      "outputs": [
        {
          "output_type": "stream",
          "name": "stdout",
          "text": [
            "호텔의 층 수를 입력하세요: 5\n",
            "각 층의 방 수를 입력하세요: 2\n",
            "몇 번째 손님인지 입력하세요: 9\n",
            "['101', '102', '201', '202', '301', '302', '401', '402', '501', '502']\n"
          ]
        },
        {
          "output_type": "execute_result",
          "data": {
            "text/plain": [
              "'501'"
            ],
            "application/vnd.google.colaboratory.intrinsic+json": {
              "type": "string"
            }
          },
          "metadata": {},
          "execution_count": 25
        }
      ]
    },
    {
      "cell_type": "code",
      "source": [
        "#기본 수학 6단계 - 부녀회장이 될테야\n",
        "\n",
        "a = int(input('테스트 케이스를 입력하세요: '))\n",
        "\n",
        "for i in j in range(a):\n",
        "  k = int(input('층수를 입력하세요: '))\n",
        "  n = int(input('호수를 입력하세요: '))"
      ],
      "metadata": {
        "id": "rgVz57atd1rY"
      },
      "execution_count": null,
      "outputs": []
    },
    {
      "cell_type": "code",
      "source": [
        "#기본 수학 7단계 - 설탕 배달\n",
        "a = int(input('설탕 무게를 입력하세요: '))\n",
        "n1 = a//5\n",
        "n2 = (a%5)//3\n",
        "\n",
        "if (a%5)%3 !=0:\n",
        "  print('-1')\n",
        "else:\n",
        "  print(n1+n2)"
      ],
      "metadata": {
        "colab": {
          "base_uri": "https://localhost:8080/"
        },
        "id": "Z4IhVYn9doYW",
        "outputId": "db4c005a-bad6-4444-8939-de19feb2a4ab"
      },
      "execution_count": 5,
      "outputs": [
        {
          "output_type": "stream",
          "name": "stdout",
          "text": [
            "설탕 무게를 입력하세요: 4\n",
            "-1\n"
          ]
        }
      ]
    }
  ]
}