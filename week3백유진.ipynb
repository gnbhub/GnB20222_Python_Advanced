{
  "nbformat": 4,
  "nbformat_minor": 0,
  "metadata": {
    "colab": {
      "provenance": [],
      "collapsed_sections": [],
      "authorship_tag": "ABX9TyNHhqxHb+aAbkGowglBwTV5",
      "include_colab_link": true
    },
    "kernelspec": {
      "name": "python3",
      "display_name": "Python 3"
    },
    "language_info": {
      "name": "python"
    }
  },
  "cells": [
    {
      "cell_type": "markdown",
      "metadata": {
        "id": "view-in-github",
        "colab_type": "text"
      },
      "source": [
        "<a href=\"https://colab.research.google.com/github/gnbhub/GnB20222_Python_Advanced_1/blob/master/week3%EB%B0%B1%EC%9C%A0%EC%A7%84.ipynb\" target=\"_parent\"><img src=\"https://colab.research.google.com/assets/colab-badge.svg\" alt=\"Open In Colab\"/></a>"
      ]
    },
    {
      "cell_type": "code",
      "execution_count": null,
      "metadata": {
        "colab": {
          "base_uri": "https://localhost:8080/",
          "height": 138
        },
        "id": "DxtO5FRBdjTv",
        "outputId": "26e3ab1e-50b2-4454-8fa0-79472906c9fb"
      },
      "outputs": [
        {
          "output_type": "error",
          "ename": "SyntaxError",
          "evalue": "ignored",
          "traceback": [
            "\u001b[0;36m  File \u001b[0;32m\"<ipython-input-1-145c0b7bb981>\"\u001b[0;36m, line \u001b[0;32m5\u001b[0m\n\u001b[0;31m    int main(void) {\u001b[0m\n\u001b[0m           ^\u001b[0m\n\u001b[0;31mSyntaxError\u001b[0m\u001b[0;31m:\u001b[0m invalid syntax\n"
          ]
        }
      ],
      "source": [
        "#문자열-9\n",
        "arr=['c=', 'c-','dz=','d-','lj','nj','s=','z=']\n",
        "word=input()\n",
        "word_len=len(word)\n",
        "cnt=0\n",
        "for i in arr:\n",
        "  if i=='z=':\n",
        "    n=word.count(i)-word.cont('dz=')\n",
        "    word_len-=n*len(i)\n",
        "    cnt+=word.count(i)\n",
        "  else:\n",
        "    word_len-=word.count(i)*len(word)\n",
        "    cnt+=word.count(i)\n",
        "print(word_len+cnt)"
      ]
    },
    {
      "cell_type": "code",
      "source": [
        "#문자열-10\n",
        "n = int(input())\n",
        "\n",
        "group_word = 0\n",
        "for _ in range(n):\n",
        "    word = input()\n",
        "    error = 0\n",
        "    for index in range(len(word)-1):  # 인덱스 범위 생성 : 0부터 단어개수 -1까지 \n",
        "        if word[index] != word[index+1]:  # 연달은 두 문자가 다른 때,\n",
        "            new_word = word[index+1:]  # 현재글자 이후 문자열을 새로운 단어로 생성\n",
        "            if new_word.count(word[index]) > 0:  # 남은 문자열에서 현재글자가 있있다면\n",
        "                error += 1  # error에 1씩 증가.\n",
        "    if error == 0:  \n",
        "        group_word += 1  # error가 0이면 그룹단어\n",
        "print(group_word)"
      ],
      "metadata": {
        "id": "W16TLG3YdwHo"
      },
      "execution_count": null,
      "outputs": []
    },
    {
      "cell_type": "code",
      "source": [
        "#수학-1\n",
        "a,b,c = map(int,input().split())\n",
        "\n",
        "if b >= c:\n",
        "    print(-1)\n",
        "else:\n",
        "    print(a//(c-b)+1)"
      ],
      "metadata": {
        "id": "CIFCGRVMfS6-"
      },
      "execution_count": null,
      "outputs": []
    },
    {
      "cell_type": "code",
      "source": [
        "#수학-2\n",
        "n = int(input())\n",
        "\n",
        "nums_pileup = 1 \n",
        "cnt = 1\n",
        "while n > nums_pileup :\n",
        "    nums_pileup += 6 * cnt \n",
        "    cnt += 1\n",
        "print(cnt)"
      ],
      "metadata": {
        "id": "VteXpnTiffUG"
      },
      "execution_count": null,
      "outputs": []
    }
  ]
}