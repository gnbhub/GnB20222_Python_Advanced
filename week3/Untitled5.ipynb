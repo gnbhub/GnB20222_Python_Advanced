{
  "nbformat": 4,
  "nbformat_minor": 0,
  "metadata": {
    "colab": {
      "provenance": [],
      "authorship_tag": "ABX9TyNgC9jdywg3ZMebIdLkWpcn",
      "include_colab_link": true
    },
    "kernelspec": {
      "name": "python3",
      "display_name": "Python 3"
    },
    "language_info": {
      "name": "python"
    }
  },
  "cells": [
    {
      "cell_type": "markdown",
      "metadata": {
        "id": "view-in-github",
        "colab_type": "text"
      },
      "source": [
        "<a href=\"https://colab.research.google.com/github/gnbhub/GnB20222_Python_Advanced_1/blob/master/week3/Untitled5.ipynb\" target=\"_parent\"><img src=\"https://colab.research.google.com/assets/colab-badge.svg\" alt=\"Open In Colab\"/></a>"
      ]
    },
    {
      "cell_type": "code",
      "execution_count": null,
      "metadata": {
        "id": "ejzgWGwCaSrF"
      },
      "outputs": [],
      "source": [
        "#6-8\n",
        "\n",
        "a=list(input())\n",
        "\n",
        "cnt=0\n",
        "for i in range(len(a)):\n",
        "    if a[i] in 'A''B''C':\n",
        "        cnt+=3\n",
        "\n",
        "    elif a[i] in 'D''E''F':\n",
        "        cnt+=4\n",
        "\n",
        "    elif a[i] in 'G''H''I':\n",
        "        cnt+=5\n",
        "\n",
        "    elif a[i] in 'J''K''L':\n",
        "        cnt+=6\n",
        "\n",
        "    elif a[i] in 'M''N''O':\n",
        "        cnt+=7\n",
        "\n",
        "    elif a[i] in 'P''Q''R''S':\n",
        "        cnt+=8\n",
        "\n",
        "    elif a[i] in 'T''U''V':\n",
        "        cnt+=9\n",
        "\n",
        "    elif a[i] in 'W''X''Y''Z':\n",
        "        cnt+=10\n",
        "\n",
        "print(cnt)\n"
      ]
    },
    {
      "cell_type": "code",
      "source": [
        "#6-9\n",
        "\n",
        "a=input()\n",
        "\n",
        "k=['c=','c-','dz=','d-','lj','nj','s=','z=']\n",
        "cnt=0\n",
        "i=0\n",
        "while True:\n",
        "    \n",
        "    \n",
        "    if a[i:i+2] in k:\n",
        "        cnt+=1\n",
        "        i+=2\n",
        "    elif a[i:i+3] in k:\n",
        "        cnt+=1\n",
        "        i+=3\n",
        "    else:\n",
        "        cnt+=1\n",
        "        i+=1\n",
        "\n",
        "    if i>len(a)-1:\n",
        "        break\n",
        "\n",
        "print(cnt)\n"
      ],
      "metadata": {
        "id": "ALw81WaMaanT"
      },
      "execution_count": null,
      "outputs": []
    },
    {
      "cell_type": "code",
      "source": [
        "#7-1\n",
        "\n",
        "a,b,c=input().split()\n",
        "\n",
        "a=int(a)\n",
        "b=int(b)\n",
        "c=int(c)\n",
        "\n",
        "\n",
        "if c-b<=0:\n",
        "    print(-1)\n",
        "\n",
        "\n",
        "else:\n",
        "    print(a//(c-b)+1)"
      ],
      "metadata": {
        "id": "okIKlGzxajCW"
      },
      "execution_count": null,
      "outputs": []
    },
    {
      "cell_type": "code",
      "source": [],
      "metadata": {
        "id": "zV2_QUIEauJY"
      },
      "execution_count": null,
      "outputs": []
    }
  ]
}