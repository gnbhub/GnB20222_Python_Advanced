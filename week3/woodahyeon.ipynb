{
  "nbformat": 4,
  "nbformat_minor": 0,
  "metadata": {
    "colab": {
      "provenance": [],
      "authorship_tag": "ABX9TyMwF2/dcxCc/EQBferGDNxB",
      "include_colab_link": true
    },
    "kernelspec": {
      "name": "python3",
      "display_name": "Python 3"
    },
    "language_info": {
      "name": "python"
    }
  },
  "cells": [
    {
      "cell_type": "markdown",
      "metadata": {
        "id": "view-in-github",
        "colab_type": "text"
      },
      "source": [
        "<a href=\"https://colab.research.google.com/github/gnbhub/GnB20222_Python_Advanced_1/blob/master/week3/woodahyeon.ipynb\" target=\"_parent\"><img src=\"https://colab.research.google.com/assets/colab-badge.svg\" alt=\"Open In Colab\"/></a>"
      ]
    },
    {
      "cell_type": "code",
      "execution_count": null,
      "metadata": {
        "colab": {
          "base_uri": "https://localhost:8080/"
        },
        "id": "-OTElUcuvLt3",
        "outputId": "014e77f7-0412-4cbc-c241-421b8b27b7d4"
      },
      "outputs": [
        {
          "output_type": "stream",
          "name": "stdout",
          "text": [
            "UNUCIC\n",
            "36\n"
          ]
        }
      ],
      "source": [
        "#6-8 다이얼\n",
        "\n",
        "dial = ['ABC', 'DEF', 'GHI', 'JKL', 'MNO', 'PQRS', 'TUV', 'WXYZ']\n",
        "\n",
        "def dialtime(word):\n",
        "    t = 0\n",
        "    for i in word:\n",
        "        for x in range(len(dial)):\n",
        "            if i in dial[x] :\n",
        "                t += x+3\n",
        "                break\n",
        "    return t\n",
        "\n",
        "print(dialtime(input()))"
      ]
    },
    {
      "cell_type": "code",
      "source": [
        "#6-9 크로아티아 알파벳\n",
        "\n",
        "cralpha = ('c=', 'c-', 'dz=', 'd-', 'lj', 'nj', 's=', 'z=')\n",
        "cralphas = ''.join(cralpha)\n",
        "\n",
        "def crcount(word):\n",
        "    count = 0\n",
        "    end = 1\n",
        "    while(len(word)>1):\n",
        "        if word[0:2] in cralpha:\n",
        "            count += 1\n",
        "            word = word[2:]\n",
        "        elif word[0:3] in cralpha:\n",
        "            count += 1\n",
        "            word = word[3:]\n",
        "        else:\n",
        "            count += 1\n",
        "            word = word[1:]\n",
        "    if len(word)==1 : count += 1\n",
        "    return count\n",
        "\n",
        "print(crcount(input()))"
      ],
      "metadata": {
        "colab": {
          "base_uri": "https://localhost:8080/"
        },
        "id": "TjeJGKqGvgUI",
        "outputId": "50636c95-1655-42dd-dcfe-e44a933fbe3b"
      },
      "execution_count": null,
      "outputs": [
        {
          "output_type": "stream",
          "name": "stdout",
          "text": [
            "ljes=njak\n",
            "6\n"
          ]
        }
      ]
    },
    {
      "cell_type": "code",
      "source": [
        "#6-10 그룹 단어 체커\n",
        "\n",
        "def grword(word):\n",
        "  test = ' '\n",
        "  for i in word:\n",
        "    if (i in test) and (i != test[-1]) : return 0\n",
        "    test += i\n",
        "  return 1\n",
        "\n",
        "count = 0\n",
        "for i in range(int(input())):\n",
        "  word = input()\n",
        "  if grword(word): count += 1\n",
        "print(count)"
      ],
      "metadata": {
        "id": "j-w0hbJiy96b",
        "colab": {
          "base_uri": "https://localhost:8080/"
        },
        "outputId": "aee46972-c005-4e28-9289-891631d63243"
      },
      "execution_count": 3,
      "outputs": [
        {
          "output_type": "stream",
          "name": "stdout",
          "text": [
            "3\n",
            "xyz\n",
            "happy\n",
            "aabbccb\n",
            "2\n"
          ]
        }
      ]
    },
    {
      "cell_type": "code",
      "source": [
        "#7-1 손익분기점\n",
        "\n",
        "def bep(a, b, c):\n",
        "  if b>=c: return -1\n",
        "  return int(a//(c-b)+1)\n",
        "  \n",
        "a, b, c = list(map(int,input().split()))\n",
        "print(bep(a, b, c))"
      ],
      "metadata": {
        "colab": {
          "base_uri": "https://localhost:8080/"
        },
        "id": "JCcw4pC2zCjB",
        "outputId": "a39150b8-0bbc-4cd8-b137-d217ef362819"
      },
      "execution_count": null,
      "outputs": [
        {
          "output_type": "stream",
          "name": "stdout",
          "text": [
            "2100000000 9 10\n",
            "2100000001\n"
          ]
        }
      ]
    },
    {
      "cell_type": "code",
      "source": [
        "#7-2 벌집\n",
        "\n",
        "def honeycomb(num):\n",
        "    if num == 1: return 1\n",
        "    n=2; s=2; e=7\n",
        "    while(1):\n",
        "        if s <= num <= e: return n\n",
        "        n+=1\n",
        "        s = s+6*(n-2)\n",
        "        e = e+6*(n-1)\n",
        "\n",
        "print(honeycomb(int(input())))"
      ],
      "metadata": {
        "colab": {
          "base_uri": "https://localhost:8080/"
        },
        "id": "N61dgJWIzFhB",
        "outputId": "031eb02c-c071-47b0-eb64-a43d1be58cc4"
      },
      "execution_count": null,
      "outputs": [
        {
          "output_type": "stream",
          "name": "stdout",
          "text": [
            "13\n",
            "3\n"
          ]
        }
      ]
    }
  ]
}