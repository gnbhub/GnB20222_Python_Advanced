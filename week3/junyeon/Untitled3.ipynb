{
  "nbformat": 4,
  "nbformat_minor": 0,
  "metadata": {
    "colab": {
      "provenance": [],
      "authorship_tag": "ABX9TyMnQarn8t491r1CpnJoL/Rp",
      "include_colab_link": true
    },
    "kernelspec": {
      "name": "python3",
      "display_name": "Python 3"
    },
    "language_info": {
      "name": "python"
    }
  },
  "cells": [
    {
      "cell_type": "markdown",
      "metadata": {
        "id": "view-in-github",
        "colab_type": "text"
      },
      "source": [
        "<a href=\"https://colab.research.google.com/github/gnbhub/GnB20222_Python_Advanced_1/blob/master/week3/junyeon/Untitled3.ipynb\" target=\"_parent\"><img src=\"https://colab.research.google.com/assets/colab-badge.svg\" alt=\"Open In Colab\"/></a>"
      ]
    },
    {
      "cell_type": "code",
      "execution_count": null,
      "metadata": {
        "id": "TycF3ZrjhRaN"
      },
      "outputs": [],
      "source": [
        "#6-8 다이얼\n",
        "\n",
        "a = input()\n",
        "\n",
        "code = list(a)\n",
        "\n",
        "number = 0\n",
        "\n",
        "for i in range(0,len(a),1):\n",
        "    if code[i] == 'A' or code[i] == 'B' or code[i]=='C':\n",
        "        number += 3\n",
        "    elif code[i] =='D' or code[i] == 'E' or code[i] == 'F':\n",
        "        number += 4\n",
        "    elif code[i] =='G' or code[i] == 'H' or code[i] == 'I':\n",
        "        number += 5\n",
        "    elif code[i] =='J' or code[i] == 'K' or code[i] == 'L':\n",
        "        number += 6\n",
        "    elif code[i] =='M' or code[i] == 'N' or code[i] == 'O':\n",
        "        number += 7\n",
        "    elif code[i] =='P' or code[i] == 'Q' or code[i] == 'R' or code[i] =='S':\n",
        "        number += 8\n",
        "    elif code[i] =='T' or code[i] == 'U' or code[i] == 'V':\n",
        "        number += 9\n",
        "    else:\n",
        "        number += 10\n",
        "\n",
        "print(number)\n",
        "\n",
        "#6-9 크로아티아 알파\n",
        "check = ['c=','c-','dz=','d-','lj','nj','s=','z=']\n",
        "\n",
        "name=input()\n",
        "\n",
        "for i in check:\n",
        "    name = name.replace(i, '*')\n",
        "\n",
        "print(len(name))\n",
        "\n",
        "#6-10 그룹 체커 단어\n",
        "number = int(input())\n",
        "count=number\n",
        "for i in range(0,number):\n",
        "    a= input()\n",
        "    for i in range(i,len(a)-1):\n",
        "        if a[i] == a[i+1]:\n",
        "            continue\n",
        "        elif a[i] == a[i+1]:\n",
        "            count-=1\n",
        "            break\n",
        "\n",
        "print(count)\n",
        "\n",
        "#7-1 손익분기점\n",
        "a,b,c = map(int,input().split())\n",
        "\n",
        "if b>=c:\n",
        "    print(-1)\n",
        "\n",
        "else:\n",
        "    print(a//(c-b) +1)"
      ]
    }
  ]
}