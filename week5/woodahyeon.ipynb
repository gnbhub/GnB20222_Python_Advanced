{
  "nbformat": 4,
  "nbformat_minor": 0,
  "metadata": {
    "colab": {
      "provenance": [],
      "authorship_tag": "ABX9TyMZiRxFz1zFryzxCx+U3ksC",
      "include_colab_link": true
    },
    "kernelspec": {
      "name": "python3",
      "display_name": "Python 3"
    },
    "language_info": {
      "name": "python"
    }
  },
  "cells": [
    {
      "cell_type": "markdown",
      "metadata": {
        "id": "view-in-github",
        "colab_type": "text"
      },
      "source": [
        "<a href=\"https://colab.research.google.com/github/gnbhub/GnB20222_Python_Advanced_1/blob/master/week5/woodahyeon.ipynb\" target=\"_parent\"><img src=\"https://colab.research.google.com/assets/colab-badge.svg\" alt=\"Open In Colab\"/></a>"
      ]
    },
    {
      "cell_type": "code",
      "source": [
        "#7-8 큰 수 A+B\n",
        "\n",
        "print(sum(list(map(int, input().split()))))"
      ],
      "metadata": {
        "colab": {
          "base_uri": "https://localhost:8080/"
        },
        "id": "KC4iTqO9xLCD",
        "outputId": "a655c61b-cda7-41e9-9678-a40989c0039e"
      },
      "execution_count": 13,
      "outputs": [
        {
          "output_type": "stream",
          "name": "stdout",
          "text": [
            "9223372036854775807 9223372036854775808\n",
            "18446744073709551615\n"
          ]
        }
      ]
    },
    {
      "cell_type": "code",
      "execution_count": 4,
      "metadata": {
        "colab": {
          "base_uri": "https://localhost:8080/"
        },
        "id": "9RgpX4ERtCbd",
        "outputId": "5f7cdaab-e011-4fb0-b675-44dea8008ab4"
      },
      "outputs": [
        {
          "output_type": "stream",
          "name": "stdout",
          "text": [
            "4\n",
            "1 3 5 7\n",
            "3\n"
          ]
        }
      ],
      "source": [
        "#8-1 소수 찾기\n",
        "\n",
        "def prime(n):\n",
        "  if n==2: return 1;\n",
        "  elif n%2==0: return 0;\n",
        "  else:\n",
        "    cnt = 0\n",
        "    for i in range(1, n+1):\n",
        "      if n%i==0: cnt += 1\n",
        "      if cnt>2: break\n",
        "    if cnt==2: return 1\n",
        "    else: return 0\n",
        "\n",
        "n = int(input())\n",
        "cnt = 0\n",
        "nums = list(map(int, input().split()))\n",
        "for i in nums:\n",
        "  if prime(i): cnt += 1\n",
        "print(cnt)"
      ]
    },
    {
      "cell_type": "code",
      "source": [
        "#8-2 소수\n",
        "\n",
        "def prime(n):\n",
        "  if n==2: return 1;\n",
        "  elif n%2==0: return 0;\n",
        "  else:\n",
        "    cnt = 0\n",
        "    for i in range(1, n+1):\n",
        "      if n%i==0: cnt += 1\n",
        "      if cnt>2: break\n",
        "    if cnt==2: return 1\n",
        "    else: return 0\n",
        "\n",
        "m = int(input())\n",
        "n = int(input())\n",
        "p = []\n",
        "for i in range(m, n+1):\n",
        "  if prime(i) : p.append(i)\n",
        "if len(p)==0: print('-1')\n",
        "else:\n",
        "  print(sum(p))\n",
        "  print(min(p))"
      ],
      "metadata": {
        "colab": {
          "base_uri": "https://localhost:8080/"
        },
        "id": "WVHyLygkuvLf",
        "outputId": "15af715b-df5d-4ac6-bfae-b5f81119799d"
      },
      "execution_count": 6,
      "outputs": [
        {
          "output_type": "stream",
          "name": "stdout",
          "text": [
            "60\n",
            "100\n",
            "620\n",
            "61\n"
          ]
        }
      ]
    },
    {
      "cell_type": "code",
      "source": [
        "#8-3 소인수분해\n",
        "\n",
        "n = int(input())\n",
        "\n",
        "i = 2\n",
        "while(1):\n",
        "  if n==1: break\n",
        "  if n%i==0:\n",
        "    print(i)\n",
        "    n = n/i\n",
        "  else: i+=1"
      ],
      "metadata": {
        "colab": {
          "base_uri": "https://localhost:8080/"
        },
        "id": "LoSXrr2Fu376",
        "outputId": "f34b3ae0-a484-47ba-d317-8bca8a4a414f"
      },
      "execution_count": 11,
      "outputs": [
        {
          "output_type": "stream",
          "name": "stdout",
          "text": [
            "9991\n",
            "97\n",
            "103\n"
          ]
        }
      ]
    },
    {
      "cell_type": "code",
      "source": [
        "#8-4 소수 구하기\n",
        "\n",
        "def prime(n):\n",
        "  if n==2: return 1;\n",
        "  elif n%2==0 or n==1: return 0;\n",
        "  else:\n",
        "    i = 2\n",
        "    while(i*i<=n):\n",
        "      if n%i==0: return 0\n",
        "      i += 1\n",
        "    return 1\n",
        "\n",
        "m, n = list(map(int, input().split()))\n",
        "for i in range(m, n+1):\n",
        "  if prime(i): print(i)"
      ],
      "metadata": {
        "colab": {
          "base_uri": "https://localhost:8080/"
        },
        "id": "edLxDbw3u4gC",
        "outputId": "18f03317-20cf-4b46-d75a-d5c640240c31"
      },
      "execution_count": 17,
      "outputs": [
        {
          "output_type": "stream",
          "name": "stdout",
          "text": [
            "1 16\n",
            "2\n",
            "3\n",
            "5\n",
            "7\n",
            "11\n",
            "13\n"
          ]
        }
      ]
    },
    {
      "cell_type": "code",
      "source": [
        "#8-5 베르트랑 공준\n",
        "\n",
        "def prime(n):\n",
        "  if n==2: return 1;\n",
        "  elif n%2==0 or n==1: return 0;\n",
        "  else:\n",
        "    i = 2\n",
        "    while(i*i<=n):\n",
        "      if n%i==0: return 0\n",
        "      i += 1\n",
        "    return 1\n",
        "\n",
        "nums = []\n",
        "n = -1\n",
        "\n",
        "#입력\n",
        "while (1): \n",
        "  n = int(input())\n",
        "  if n==0: break\n",
        "  nums.append(n)\n",
        "\n",
        "#최대 n에 대하여 소수 set 생성\n",
        "p = set()\n",
        "for i in range(min(nums)+1, 2*max(nums)+1):\n",
        "  if prime(i): p.add(i)\n",
        "\n",
        "#n<i<=2n set과 소수 set의 합집합 요소 개수 출력\n",
        "cnt = 0\n",
        "for i in nums:\n",
        "  r = set(range(i+1, 2*i+1))\n",
        "  print(len(r&p))"
      ],
      "metadata": {
        "colab": {
          "base_uri": "https://localhost:8080/"
        },
        "id": "oaPYK56YvINI",
        "outputId": "4a29a1d2-fcd7-4c88-87d1-a2f8d326e83e"
      },
      "execution_count": 27,
      "outputs": [
        {
          "output_type": "stream",
          "name": "stdout",
          "text": [
            "1\n",
            "10\n",
            "13\n",
            "100\n",
            "1000\n",
            "10000\n",
            "100000\n",
            "0\n",
            "1\n",
            "4\n",
            "3\n",
            "21\n",
            "135\n",
            "1033\n",
            "8392\n"
          ]
        }
      ]
    }
  ]
}