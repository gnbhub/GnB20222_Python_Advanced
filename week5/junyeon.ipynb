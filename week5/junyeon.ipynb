{
  "nbformat": 4,
  "nbformat_minor": 0,
  "metadata": {
    "colab": {
      "provenance": [],
      "authorship_tag": "ABX9TyPg8nYmIzVLGdB12iLy/YCv",
      "include_colab_link": true
    },
    "kernelspec": {
      "name": "python3",
      "display_name": "Python 3"
    },
    "language_info": {
      "name": "python"
    }
  },
  "cells": [
    {
      "cell_type": "markdown",
      "metadata": {
        "id": "view-in-github",
        "colab_type": "text"
      },
      "source": [
        "<a href=\"https://colab.research.google.com/github/gnbhub/GnB20222_Python_Advanced_1/blob/master/week5/junyeon.ipynb\" target=\"_parent\"><img src=\"https://colab.research.google.com/assets/colab-badge.svg\" alt=\"Open In Colab\"/></a>"
      ]
    },
    {
      "cell_type": "code",
      "execution_count": null,
      "metadata": {
        "id": "8iw-UGDZK3V4"
      },
      "outputs": [],
      "source": [
        "#7-8 큰 수 A+B\n",
        "\n",
        "print(sum(list(map(int, input().split()))))\n",
        "\n",
        "#8-1 소수찾기\n",
        "n = int(input())\n",
        "numbers = map(int, input().split())\n",
        "sosu = 0\n",
        "\n",
        "for num in numbers:\n",
        "    error = 0\n",
        "    if num >1:\n",
        "        for i in range(2, num):\n",
        "            if num % i == 0:\n",
        "                error+=1\n",
        "        if error ==0:\n",
        "            sosu +=1\n",
        "print(sosu)\n",
        "\n",
        "#8-2 소수\n",
        "M = int(input())\n",
        "N = int(input())\n",
        "sosu = list()\n",
        "\n",
        "for num in range(M, N+1):\n",
        "    error = 0\n",
        "    if num >1:\n",
        "        for i in range(2, num):\n",
        "            if num % i == 0:\n",
        "                error+=1\n",
        "                break\n",
        "        if error ==0:\n",
        "            sosu.append(num)\n",
        "\n",
        "if len(sosu) >0:\n",
        "    print(sum(sosu))\n",
        "    print(sosu[0])\n",
        "else:\n",
        "    print('-1')\n",
        "\n",
        "#8-3 소인수분해\n",
        "n = int(input())\n",
        "\n",
        "i =2\n",
        "while n!=1:\n",
        "    if n%i ==0:\n",
        "        n=n//i\n",
        "        print(i)\n",
        "    else:\n",
        "        i +=1\n",
        "\n",
        "\n",
        "#8-4 소수 구하기\n",
        "    M,N = map(int, input().split())\n",
        "\n",
        "for i in range(M, N+1):\n",
        "    if i ==1:\n",
        "        continue\n",
        "    for j in range(2, int(i**0.5)+1):\n",
        "        if i%j==0:\n",
        "            break\n",
        "    else:\n",
        "        print(i)\n",
        "\n"
      ]
    }
  ]
}