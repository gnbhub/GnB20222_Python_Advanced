{
  "nbformat": 4,
  "nbformat_minor": 0,
  "metadata": {
    "colab": {
      "provenance": [],
      "collapsed_sections": [],
      "authorship_tag": "ABX9TyMawzPolxjJFBGL3Wu5TeYv",
      "include_colab_link": true
    },
    "kernelspec": {
      "name": "python3",
      "display_name": "Python 3"
    },
    "language_info": {
      "name": "python"
    }
  },
  "cells": [
    {
      "cell_type": "markdown",
      "metadata": {
        "id": "view-in-github",
        "colab_type": "text"
      },
      "source": [
        "<a href=\"https://colab.research.google.com/github/gnbhub/GnB20222_Python_Advanced_1/blob/master/Untitled2.ipynb\" target=\"_parent\"><img src=\"https://colab.research.google.com/assets/colab-badge.svg\" alt=\"Open In Colab\"/></a>"
      ]
    },
    {
      "cell_type": "code",
      "execution_count": null,
      "metadata": {
        "id": "utxOfsejoIsZ"
      },
      "outputs": [],
      "source": [
        "#6-3 알바벳 찾기\n",
        "word = input()\n",
        "\n",
        "print(word.find('a'),word.find('b'),word.find('c'),word.find('d'),word.find('e'),\n",
        "      word.find('f'),word.find('g'),word.find('h'),word.find('i'),word.find('j'),\n",
        "      word.find('k'),word.find('l'),word.find('m'),word.find('n'),word.find('o'),\n",
        "      word.find('p'),word.find('q'),word.find('r'),word.find('s'),word.find('t'),\n",
        "      word.find('u'),word.find('v'),word.find('w'),word.find('x'),word.find('y'),\n",
        "      word.find('z'))\n",
        "\n",
        "#6-4 문자열 반복\n",
        "R = int(input())\n",
        "S = input()\n",
        "\n",
        "\n",
        "\n",
        "if len(S)>=1 and len(S)*R<=20:\n",
        "    for i in range(len(S)):\n",
        "        print(S[i]*R, end=\"\")\n",
        "\n",
        "#6-5 단어공부\n",
        "a = str(input()).upper()\n",
        "b = set(a)\n",
        "c = 0\n",
        "\n",
        "for i in b:\n",
        "    cnt=a.count(i)\n",
        "    if c < cnt:\n",
        "        c = cnt\n",
        "        word = i\n",
        "    elif c == cnt:\n",
        "        word = '?'\n",
        "\n",
        "print(word)\n",
        "\n",
        "#6-6 단어의 개수\n",
        "a = input()\n",
        "b = a.split()\n",
        "c = len(b)\n",
        "print(c)\n",
        "\n",
        "#6-7 상수\n",
        "a,b = input().split(\" \")\n",
        "c = a[::-1]\n",
        "d = b[::-1]\n",
        "\n",
        "print(max(c,d))"
      ]
    }
  ]
}