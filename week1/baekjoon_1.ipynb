{
  "nbformat": 4,
  "nbformat_minor": 0,
  "metadata": {
    "colab": {
      "provenance": [],
      "authorship_tag": "ABX9TyOWsJtPiNMyHoMa5YwEjBAp",
      "include_colab_link": true
    },
    "kernelspec": {
      "name": "python3",
      "display_name": "Python 3"
    },
    "language_info": {
      "name": "python"
    }
  },
  "cells": [
    {
      "cell_type": "markdown",
      "metadata": {
        "id": "view-in-github",
        "colab_type": "text"
      },
      "source": [
        "<a href=\"https://colab.research.google.com/github/gnbhub/GnB20222_Python_Advanced_1/blob/master/week1/baekjoon_1.ipynb\" target=\"_parent\"><img src=\"https://colab.research.google.com/assets/colab-badge.svg\" alt=\"Open In Colab\"/></a>"
      ]
    },
    {
      "cell_type": "code",
      "execution_count": null,
      "metadata": {
        "colab": {
          "base_uri": "https://localhost:8080/"
        },
        "id": "Nr5AKiZ-TkUA",
        "outputId": "85a6b5b0-fc57-492a-a4bc-d30f06b320cb"
      },
      "outputs": [
        {
          "output_type": "stream",
          "name": "stdout",
          "text": [
            "4499998500000\n"
          ]
        }
      ],
      "source": [
        "'''Python 2, Python 3, PyPy, PyPy3: def solve(a: list) -> int\n",
        "a: 합을 구해야 하는 정수 n개가 저장되어 있는 리스트 (0 ≤ a[i] ≤ 1,000,000, 1 ≤ n ≤ 3,000,000)\n",
        "리턴값: a에 포함되어 있는 정수 n개의 합 (정수)'''\n",
        "\n",
        "a = list(range(1,3000000))\n",
        "def solve(a):\n",
        "  answer = sum(a)\n",
        "  print(answer)\n",
        "\n",
        "solve(a)"
      ]
    },
    {
      "cell_type": "code",
      "source": [
        "'''셀프 넘버는 1949년 인도 수학자 D.R. Kaprekar가 이름 붙였다. 양의 정수 n에 대해서 d(n)을 n과 n의 각 자리수를 더하는 함수라고 정의하자. 예를 들어, d(75) = 75+7+5 = 87이다.\n",
        "\n",
        "양의 정수 n이 주어졌을 때, 이 수를 시작해서 n, d(n), d(d(n)), d(d(d(n))), ...과 같은 무한 수열을 만들 수 있다. \n",
        "\n",
        "예를 들어, 33으로 시작한다면 다음 수는 33 + 3 + 3 = 39이고, 그 다음 수는 39 + 3 + 9 = 51, 다음 수는 51 + 5 + 1 = 57이다. 이런식으로 다음과 같은 수열을 만들 수 있다.\n",
        "\n",
        "33, 39, 51, 57, 69, 84, 96, 111, 114, 120, 123, 129, 141, ...\n",
        "\n",
        "n을 d(n)의 생성자라고 한다. 위의 수열에서 33은 39의 생성자이고, 39는 51의 생성자, 51은 57의 생성자이다. 생성자가 한 개보다 많은 경우도 있다. 예를 들어, 101은 생성자가 2개(91과 100) 있다. \n",
        "\n",
        "생성자가 없는 숫자를 셀프 넘버라고 한다. 100보다 작은 셀프 넘버는 총 13개가 있다. 1, 3, 5, 7, 9, 20, 31, 42, 53, 64, 75, 86, 97\n",
        "\n",
        "10000보다 작거나 같은 셀프 넘버를 한 줄에 하나씩 출력하는 프로그램을 작성하시오.'''\n",
        "\n",
        "def self_number(n):\n",
        "\n",
        "\n",
        "\n",
        "def main():\n",
        "  \n",
        "\n"
      ],
      "metadata": {
        "id": "t5Cn3NP9VLRT"
      },
      "execution_count": null,
      "outputs": []
    },
    {
      "cell_type": "code",
      "source": [
        "'''어떤 양의 정수 X의 각 자리가 등차수열을 이룬다면, 그 수를 한수라고 한다. 등차수열은 연속된 두 개의 수의 차이가 일정한 수열을 말한다. N이 주어졌을 때, 1보다 크거나 같고, N보다 작거나 같은 한수의 개수를 출력하는 프로그램을 작성하시오. \n",
        "첫째 줄에 1,000보다 작거나 같은 자연수 N이 주어진다.\n",
        "첫째 줄에 1보다 크거나 같고, N보다 작거나 같은 한수의 개수를 출력한다.'''\n",
        "\n",
        "\n",
        "\n",
        "def main():\n",
        "  a = int(input('1,000보다 작은 자연수 : '))\n",
        "  answer = hansu(a)\n",
        "  print()\n"
      ],
      "metadata": {
        "id": "MdZAR_1ZB2sU"
      },
      "execution_count": null,
      "outputs": []
    },
    {
      "cell_type": "code",
      "source": [
        "'''알파벳 소문자, 대문자, 숫자 0-9중 하나가 주어졌을 때, 주어진 글자의 아스키 코드값을 출력하는 프로그램을 작성하시오.\n",
        "알파벳 소문자, 대문자, 숫자 0-9 중 하나가 첫째 줄에 주어진다.\n",
        "입력으로 주어진 글자의 아스키 코드 값을 출력한다.'''\n",
        "\n",
        "\n",
        "a = input('입력하세요:')\n",
        "answer = ord(a)\n",
        "print(answer)\n",
        "  "
      ],
      "metadata": {
        "colab": {
          "base_uri": "https://localhost:8080/"
        },
        "id": "SSqkw9Hf5L1o",
        "outputId": "79d9e342-f703-4f82-deca-8bca14ffd228"
      },
      "execution_count": 9,
      "outputs": [
        {
          "output_type": "stream",
          "name": "stdout",
          "text": [
            "입력하세요:A\n",
            "65\n"
          ]
        }
      ]
    },
    {
      "cell_type": "code",
      "source": [
        "'''N개의 숫자가 공백 없이 쓰여있다. 이 숫자를 모두 합해서 출력하는 프로그램을 작성하시오.\n",
        "첫째 줄에 숫자의 개수 N (1 ≤ N ≤ 100)이 주어진다. 둘째 줄에 숫자 N개가 공백없이 주어진다.\n",
        "입력으로 주어진 숫자 N개의 합을 출력한다.'''\n",
        "\n",
        "a = int(input('숫자의 개수를 입력하세요 :'))\n",
        "num =input('N개의 숫자를 입력하세요:')\n",
        "\n",
        "s=0\n",
        "for i in num:\n",
        "  s+= int(i)\n",
        "\n",
        "print(s)"
      ],
      "metadata": {
        "id": "19flEj08CDwX",
        "colab": {
          "base_uri": "https://localhost:8080/"
        },
        "outputId": "d16c0787-ba0e-4186-f727-60c75d7e02cd"
      },
      "execution_count": 12,
      "outputs": [
        {
          "output_type": "stream",
          "name": "stdout",
          "text": [
            "숫자의 개수를 입력하세요 :5\n",
            "N개의 숫자를 입력하세요:54321\n",
            "15\n"
          ]
        }
      ]
    },
    {
      "cell_type": "code",
      "source": [
        "'''알파벳 소문자로만 이루어진 단어 S가 주어진다. 각각의 알파벳에 대해서, 단어에 포함되어 있는 경우에는 처음 등장하는 위치를, 포함되어 있지 않은 경우에는 -1을 출력하는 프로그램을 작성하시오.\n",
        "첫째 줄에 단어 S가 주어진다. 단어의 길이는 100을 넘지 않으며, 알파벳 소문자로만 이루어져 있다.\n",
        "각각의 알파벳에 대해서, a가 처음 등장하는 위치, b가 처음 등장하는 위치, ... z가 처음 등장하는 위치를 공백으로 구분해서 출력한다.\n",
        "\n",
        "만약, 어떤 알파벳이 단어에 포함되어 있지 않다면 -1을 출력한다. 단어의 첫 번째 글자는 0번째 위치이고, 두 번째 글자는 1번째 위치이다.'''\n",
        "\n",
        "S = input('알파벳 소문자로만 이루어진 단어 :')\n",
        "lst = list()\n",
        "for i in range(ord('a'),ord('z')+1):\n",
        "  n = 0\n",
        "  for j in S:\n",
        "    if ord('j')==ord('i'):\n",
        "      n += 1\n",
        "  lst.append(n)\n",
        "\n",
        "print(lst)"
      ],
      "metadata": {
        "colab": {
          "base_uri": "https://localhost:8080/"
        },
        "id": "qHl8v2AK9C33",
        "outputId": "18e7ca5a-a150-4dba-9823-c39c02116fdb"
      },
      "execution_count": 15,
      "outputs": [
        {
          "output_type": "stream",
          "name": "stdout",
          "text": [
            "알파벳 소문자로만 이루어진 단어 :apple\n",
            "[0, 0, 0, 0, 0, 0, 0, 0, 0, 0, 0, 0, 0, 0, 0, 0, 0, 0, 0, 0, 0, 0, 0, 0, 0, 0]\n"
          ]
        }
      ]
    },
    {
      "cell_type": "code",
      "source": [
        "a = input('d')\n",
        "s = 0\n",
        "for i in a:\n",
        "  if ord('a')==ord('i'):\n",
        "    s+=1\n",
        "print(s)\n",
        "    "
      ],
      "metadata": {
        "colab": {
          "base_uri": "https://localhost:8080/"
        },
        "id": "mTl_O_tV_BGn",
        "outputId": "f82c115f-da32-46c2-85d5-b72cb3946182"
      },
      "execution_count": 18,
      "outputs": [
        {
          "output_type": "stream",
          "name": "stdout",
          "text": [
            "dapple\n",
            "0\n"
          ]
        }
      ]
    }
  ]
}