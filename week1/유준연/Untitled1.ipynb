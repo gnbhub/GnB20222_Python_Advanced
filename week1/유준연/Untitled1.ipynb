{
  "nbformat": 4,
  "nbformat_minor": 0,
  "metadata": {
    "colab": {
      "provenance": [],
      "authorship_tag": "ABX9TyOX5HkPz2m9YtOajeuvMBXT",
      "include_colab_link": true
    },
    "kernelspec": {
      "name": "python3",
      "display_name": "Python 3"
    },
    "language_info": {
      "name": "python"
    }
  },
  "cells": [
    {
      "cell_type": "markdown",
      "metadata": {
        "id": "view-in-github",
        "colab_type": "text"
      },
      "source": [
        "<a href=\"https://colab.research.google.com/github/gnbhub/GnB20222_Python_Advanced_1/blob/master/week1/%EC%9C%A0%EC%A4%80%EC%97%B0/Untitled1.ipynb\" target=\"_parent\"><img src=\"https://colab.research.google.com/assets/colab-badge.svg\" alt=\"Open In Colab\"/></a>"
      ]
    },
    {
      "cell_type": "code",
      "execution_count": 1,
      "metadata": {
        "id": "JL8TyJhvbaqA"
      },
      "outputs": [],
      "source": [
        "#5-1 정수 n개의 합\n",
        "def solve(a):\n",
        "    sum = 0\n",
        "    for i in a:\n",
        "        sum = sum + i\n",
        "    return sum\n",
        "\n",
        "#5-2 셀프 넘버\n",
        "\n",
        "\n",
        "\n",
        "#5-3 한수\n",
        "n = int(input())\n",
        "a = 0\n",
        "\n",
        "for i in range(1,n+1):\n",
        "    if i <=99:\n",
        "        a+=1\n",
        "    else:\n",
        "        s = str(i)\n",
        "        if int(str(s[0]))-int(str(s[1]))==int(str(s[1]))-int(str(s[2])):\n",
        "            a+=1\n",
        "print(a)\n",
        "    \n",
        "\n",
        "#6-1 아스키 코드\n",
        "a = input(\"알파벳 소문자, 대문자, 숫자 0-9 중 하나를 입력하시오 : \")\n",
        "\n",
        "print(ord(a))\n",
        "\n",
        "#6-2 숫자의 합\n",
        "n = int(input())\n",
        "a = input()\n",
        "sum = 0\n",
        "\n",
        "for i in range(n):\n",
        "    sum = sum + int(a[i])\n",
        "print(sum)\n"
      ]
    }
  ]
}